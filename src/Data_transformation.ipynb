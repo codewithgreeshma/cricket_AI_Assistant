{
 "cells": [
  {
   "cell_type": "code",
   "execution_count": 2,
   "id": "ca79d088-acc4-4ab4-aecf-4b6b6a8a36cc",
   "metadata": {},
   "outputs": [],
   "source": [
    "import pandas as pd\n",
    "import json"
   ]
  },
  {
   "cell_type": "code",
   "execution_count": 10,
   "id": "0bb9c7ec-44f8-42b7-bf8d-e3b67082d1bc",
   "metadata": {},
   "outputs": [],
   "source": [
    "DIRECTORY_PATH = r\"C:\\Users\\sidha\\OneDrive\\Documents\\Project_Cricket_AI\\src\\data\\ipl_json\"\n",
    "json_path = r\"C:\\Users\\sidha\\OneDrive\\Documents\\Project_Cricket_AI\\src\\data\\ipl_json\\335982.json\""
   ]
  },
  {
   "cell_type": "code",
   "execution_count": 30,
   "id": "002c00fd-5f8d-46f4-a638-e63fb4a09679",
   "metadata": {},
   "outputs": [
    {
     "name": "stdout",
     "output_type": "stream",
     "text": [
      "{'balls_per_over': 6, 'city': 'Bangalore', 'dates': ['2008-04-18'], 'event': {'match_number': 1, 'name': 'Indian Premier League'}, 'gender': 'male', 'match_type': 'T20', 'officials': {'match_referees': ['J Srinath'], 'reserve_umpires': ['VN Kulkarni'], 'tv_umpires': ['AM Saheba'], 'umpires': ['Asad Rauf', 'RE Koertzen']}, 'outcome': {'by': {'runs': 140}, 'winner': 'Kolkata Knight Riders'}, 'overs': 20, 'player_of_match': ['BB McCullum'], 'players': {'Kolkata Knight Riders': ['SC Ganguly', 'BB McCullum', 'RT Ponting', 'DJ Hussey', 'Mohammad Hafeez', 'LR Shukla', 'WP Saha', 'AB Agarkar', 'AB Dinda', 'M Kartik', 'I Sharma'], 'Royal Challengers Bangalore': ['R Dravid', 'W Jaffer', 'V Kohli', 'JH Kallis', 'CL White', 'MV Boucher', 'B Akhil', 'AA Noffke', 'P Kumar', 'Z Khan', 'SB Joshi']}, 'registry': {'people': {'AA Noffke': 'b69e69ed', 'AB Agarkar': 'fa463154', 'AB Dinda': '66b30f71', 'AM Saheba': '883e3818', 'Asad Rauf': '861606b7', 'B Akhil': 'af7dadf7', 'BB McCullum': 'b8a55852', 'CL White': 'd0513f63', 'DJ Hussey': 'fd835ab3', 'I Sharma': '5bb1a1c4', 'J Srinath': 'bad31fac', 'JH Kallis': '86dc8f2e', 'LR Shukla': 'b1451597', 'M Kartik': 'abfeb126', 'MV Boucher': 'f3cb53a1', 'Mohammad Hafeez': '9ab63e7b', 'P Kumar': 'e938e1bc', 'R Dravid': '0184dc35', 'RE Koertzen': '0265fab2', 'RT Ponting': '7d415ea5', 'SB Joshi': '670709ec', 'SC Ganguly': '725529bc', 'V Kohli': 'ba607b88', 'VN Kulkarni': '0b126008', 'W Jaffer': '619aa81f', 'WP Saha': 'fe11caa6', 'Z Khan': '91a4a398'}}, 'season': '2007/08', 'team_type': 'club', 'teams': ['Royal Challengers Bangalore', 'Kolkata Knight Riders'], 'toss': {'decision': 'field', 'winner': 'Royal Challengers Bangalore'}, 'venue': 'M Chinnaswamy Stadium'}\n",
      "2\n"
     ]
    }
   ],
   "source": [
    "# Read the JSON file as a dictionary\n",
    "with open(json_path, \"r\", encoding=\"utf-8\") as file:\n",
    "    data_dict = json.load(file)\n",
    "    print(data_dict['info'])\n",
    "    print(len(data_dict['innings']))\n",
    "\n",
    "# Convert dictionary to DataFrame\n",
    "# df = pd.DataFrame(data_dict[\"info\"])\n",
    "\n",
    "# # Display the DataFrame\n",
    "# print(df.head())"
   ]
  },
  {
   "cell_type": "code",
   "execution_count": 23,
   "id": "8ffb139f-d8af-4b63-9026-0dff2f1ea93c",
   "metadata": {},
   "outputs": [
    {
     "name": "stdout",
     "output_type": "stream",
     "text": [
      "{'team': 'Kolkata Knight Riders', 'overs': [{'over': 0, 'deliveries': [{'batter': 'SC Ganguly', 'bowler': 'P Kumar', 'extras': {'legbyes': 1}, 'non_striker': 'BB McCullum', 'runs': {'batter': 0, 'extras': 1, 'total': 1}}, {'batter': 'BB McCullum', 'bowler': 'P Kumar', 'non_striker': 'SC Ganguly', 'runs': {'batter': 0, 'extras': 0, 'total': 0}}, {'batter': 'BB McCullum', 'bowler': 'P Kumar', 'extras': {'wides': 1}, 'non_striker': 'SC Ganguly', 'runs': {'batter': 0, 'extras': 1, 'total': 1}}, {'batter': 'BB McCullum', 'bowler': 'P Kumar', 'non_striker': 'SC Ganguly', 'runs': {'batter': 0, 'extras': 0, 'total': 0}}, {'batter': 'BB McCullum', 'bowler': 'P Kumar', 'non_striker': 'SC Ganguly', 'runs': {'batter': 0, 'extras': 0, 'total': 0}}, {'batter': 'BB McCullum', 'bowler': 'P Kumar', 'non_striker': 'SC Ganguly', 'runs': {'batter': 0, 'extras': 0, 'total': 0}}, {'batter': 'BB McCullum', 'bowler': 'P Kumar', 'extras': {'legbyes': 1}, 'non_striker': 'SC Ganguly', 'runs': {'batter': 0, 'extras': 1, 'total': 1}}]}, {'over': 1, 'deliveries': [{'batter': 'BB McCullum', 'bowler': 'Z Khan', 'non_striker': 'SC Ganguly', 'runs': {'batter': 0, 'extras': 0, 'total': 0}}, {'batter': 'BB McCullum', 'bowler': 'Z Khan', 'non_striker': 'SC Ganguly', 'runs': {'batter': 4, 'extras': 0, 'total': 4}}, {'batter': 'BB McCullum', 'bowler': 'Z Khan', 'non_striker': 'SC Ganguly', 'runs': {'batter': 4, 'extras': 0, 'total': 4}}, {'batter': 'BB McCullum', 'bowler': 'Z Khan', 'non_striker': 'SC Ganguly', 'runs': {'batter': 6, 'extras': 0, 'total': 6}}, {'batter': 'BB McCullum', 'bowler': 'Z Khan', 'non_striker': 'SC Ganguly', 'runs': {'batter': 4, 'extras': 0, 'total': 4}}, {'batter': 'BB McCullum', 'bowler': 'Z Khan', 'non_striker': 'SC Ganguly', 'runs': {'batter': 0, 'extras': 0, 'total': 0}}]}, {'over': 2, 'deliveries': [{'batter': 'SC Ganguly', 'bowler': 'P Kumar', 'non_striker': 'BB McCullum', 'runs': {'batter': 0, 'extras': 0, 'total': 0}}, {'batter': 'SC Ganguly', 'bowler': 'P Kumar', 'non_striker': 'BB McCullum', 'runs': {'batter': 0, 'extras': 0, 'total': 0}}, {'batter': 'SC Ganguly', 'bowler': 'P Kumar', 'extras': {'legbyes': 1}, 'non_striker': 'BB McCullum', 'runs': {'batter': 0, 'extras': 1, 'total': 1}}, {'batter': 'BB McCullum', 'bowler': 'P Kumar', 'non_striker': 'SC Ganguly', 'runs': {'batter': 4, 'extras': 0, 'total': 4}}, {'batter': 'BB McCullum', 'bowler': 'P Kumar', 'non_striker': 'SC Ganguly', 'runs': {'batter': 1, 'extras': 0, 'total': 1}}, {'batter': 'SC Ganguly', 'bowler': 'P Kumar', 'non_striker': 'BB McCullum', 'runs': {'batter': 0, 'extras': 0, 'total': 0}}]}, {'over': 3, 'deliveries': [{'batter': 'BB McCullum', 'bowler': 'AA Noffke', 'extras': {'wides': 5}, 'non_striker': 'SC Ganguly', 'runs': {'batter': 0, 'extras': 5, 'total': 5}}, {'batter': 'BB McCullum', 'bowler': 'AA Noffke', 'non_striker': 'SC Ganguly', 'runs': {'batter': 6, 'extras': 0, 'total': 6}}, {'batter': 'BB McCullum', 'bowler': 'AA Noffke', 'extras': {'legbyes': 1}, 'non_striker': 'SC Ganguly', 'runs': {'batter': 0, 'extras': 1, 'total': 1}}, {'batter': 'SC Ganguly', 'bowler': 'AA Noffke', 'non_striker': 'BB McCullum', 'runs': {'batter': 4, 'extras': 0, 'total': 4}}, {'batter': 'SC Ganguly', 'bowler': 'AA Noffke', 'non_striker': 'BB McCullum', 'runs': {'batter': 0, 'extras': 0, 'total': 0}}, {'batter': 'SC Ganguly', 'bowler': 'AA Noffke', 'non_striker': 'BB McCullum', 'runs': {'batter': 1, 'extras': 0, 'total': 1}}, {'batter': 'BB McCullum', 'bowler': 'AA Noffke', 'non_striker': 'SC Ganguly', 'runs': {'batter': 6, 'extras': 0, 'total': 6}}]}, {'over': 4, 'deliveries': [{'batter': 'SC Ganguly', 'bowler': 'P Kumar', 'non_striker': 'BB McCullum', 'runs': {'batter': 4, 'extras': 0, 'total': 4}}, {'batter': 'SC Ganguly', 'bowler': 'P Kumar', 'non_striker': 'BB McCullum', 'runs': {'batter': 1, 'extras': 0, 'total': 1}}, {'batter': 'BB McCullum', 'bowler': 'P Kumar', 'non_striker': 'SC Ganguly', 'runs': {'batter': 4, 'extras': 0, 'total': 4}}, {'batter': 'BB McCullum', 'bowler': 'P Kumar', 'non_striker': 'SC Ganguly', 'runs': {'batter': 0, 'extras': 0, 'total': 0}}, {'batter': 'BB McCullum', 'bowler': 'P Kumar', 'non_striker': 'SC Ganguly', 'runs': {'batter': 1, 'extras': 0, 'total': 1}}, {'batter': 'SC Ganguly', 'bowler': 'P Kumar', 'non_striker': 'BB McCullum', 'runs': {'batter': 0, 'extras': 0, 'total': 0}}]}, {'over': 5, 'deliveries': [{'batter': 'BB McCullum', 'bowler': 'Z Khan', 'non_striker': 'SC Ganguly', 'runs': {'batter': 1, 'extras': 0, 'total': 1}}, {'batter': 'SC Ganguly', 'bowler': 'Z Khan', 'non_striker': 'BB McCullum', 'runs': {'batter': 0, 'extras': 0, 'total': 0}, 'wickets': [{'kind': 'caught', 'player_out': 'SC Ganguly', 'fielders': [{'name': 'JH Kallis'}]}]}, {'batter': 'RT Ponting', 'bowler': 'Z Khan', 'non_striker': 'BB McCullum', 'runs': {'batter': 0, 'extras': 0, 'total': 0}}, {'batter': 'RT Ponting', 'bowler': 'Z Khan', 'non_striker': 'BB McCullum', 'runs': {'batter': 0, 'extras': 0, 'total': 0}}, {'batter': 'RT Ponting', 'bowler': 'Z Khan', 'non_striker': 'BB McCullum', 'runs': {'batter': 0, 'extras': 0, 'total': 0}}, {'batter': 'RT Ponting', 'bowler': 'Z Khan', 'non_striker': 'BB McCullum', 'runs': {'batter': 0, 'extras': 0, 'total': 0}}]}, {'over': 6, 'deliveries': [{'batter': 'BB McCullum', 'bowler': 'AA Noffke', 'non_striker': 'RT Ponting', 'runs': {'batter': 1, 'extras': 0, 'total': 1}}, {'batter': 'RT Ponting', 'bowler': 'AA Noffke', 'non_striker': 'BB McCullum', 'runs': {'batter': 1, 'extras': 0, 'total': 1}}, {'batter': 'BB McCullum', 'bowler': 'AA Noffke', 'non_striker': 'RT Ponting', 'runs': {'batter': 1, 'extras': 0, 'total': 1}}, {'batter': 'RT Ponting', 'bowler': 'AA Noffke', 'non_striker': 'BB McCullum', 'runs': {'batter': 2, 'extras': 0, 'total': 2}}, {'batter': 'RT Ponting', 'bowler': 'AA Noffke', 'non_striker': 'BB McCullum', 'runs': {'batter': 1, 'extras': 0, 'total': 1}}, {'batter': 'BB McCullum', 'bowler': 'AA Noffke', 'non_striker': 'RT Ponting', 'runs': {'batter': 1, 'extras': 0, 'total': 1}}]}, {'over': 7, 'deliveries': [{'batter': 'BB McCullum', 'bowler': 'Z Khan', 'non_striker': 'RT Ponting', 'runs': {'batter': 0, 'extras': 0, 'total': 0}}, {'batter': 'BB McCullum', 'bowler': 'Z Khan', 'non_striker': 'RT Ponting', 'runs': {'batter': 1, 'extras': 0, 'total': 1}}, {'batter': 'RT Ponting', 'bowler': 'Z Khan', 'non_striker': 'BB McCullum', 'runs': {'batter': 1, 'extras': 0, 'total': 1}}, {'batter': 'BB McCullum', 'bowler': 'Z Khan', 'non_striker': 'RT Ponting', 'runs': {'batter': 1, 'extras': 0, 'total': 1}}, {'batter': 'RT Ponting', 'bowler': 'Z Khan', 'non_striker': 'BB McCullum', 'runs': {'batter': 1, 'extras': 0, 'total': 1}}, {'batter': 'BB McCullum', 'bowler': 'Z Khan', 'non_striker': 'RT Ponting', 'runs': {'batter': 1, 'extras': 0, 'total': 1}}]}, {'over': 8, 'deliveries': [{'batter': 'BB McCullum', 'bowler': 'JH Kallis', 'non_striker': 'RT Ponting', 'runs': {'batter': 0, 'extras': 0, 'total': 0}}, {'batter': 'BB McCullum', 'bowler': 'JH Kallis', 'non_striker': 'RT Ponting', 'runs': {'batter': 0, 'extras': 0, 'total': 0}}, {'batter': 'BB McCullum', 'bowler': 'JH Kallis', 'non_striker': 'RT Ponting', 'runs': {'batter': 0, 'extras': 0, 'total': 0}}, {'batter': 'BB McCullum', 'bowler': 'JH Kallis', 'non_striker': 'RT Ponting', 'runs': {'batter': 1, 'extras': 0, 'total': 1}}, {'batter': 'RT Ponting', 'bowler': 'JH Kallis', 'non_striker': 'BB McCullum', 'runs': {'batter': 1, 'extras': 0, 'total': 1}}, {'batter': 'BB McCullum', 'bowler': 'JH Kallis', 'non_striker': 'RT Ponting', 'runs': {'batter': 2, 'extras': 0, 'total': 2}}]}, {'over': 9, 'deliveries': [{'batter': 'RT Ponting', 'bowler': 'SB Joshi', 'non_striker': 'BB McCullum', 'runs': {'batter': 1, 'extras': 0, 'total': 1}}, {'batter': 'BB McCullum', 'bowler': 'SB Joshi', 'non_striker': 'RT Ponting', 'runs': {'batter': 1, 'extras': 0, 'total': 1}}, {'batter': 'RT Ponting', 'bowler': 'SB Joshi', 'non_striker': 'BB McCullum', 'runs': {'batter': 1, 'extras': 0, 'total': 1}}, {'batter': 'BB McCullum', 'bowler': 'SB Joshi', 'non_striker': 'RT Ponting', 'runs': {'batter': 0, 'extras': 0, 'total': 0}}, {'batter': 'BB McCullum', 'bowler': 'SB Joshi', 'non_striker': 'RT Ponting', 'runs': {'batter': 6, 'extras': 0, 'total': 6}}, {'batter': 'BB McCullum', 'bowler': 'SB Joshi', 'non_striker': 'RT Ponting', 'runs': {'batter': 1, 'extras': 0, 'total': 1}}]}, {'over': 10, 'deliveries': [{'batter': 'BB McCullum', 'bowler': 'JH Kallis', 'non_striker': 'RT Ponting', 'runs': {'batter': 1, 'extras': 0, 'total': 1}}, {'batter': 'RT Ponting', 'bowler': 'JH Kallis', 'non_striker': 'BB McCullum', 'runs': {'batter': 4, 'extras': 0, 'total': 4}}, {'batter': 'RT Ponting', 'bowler': 'JH Kallis', 'non_striker': 'BB McCullum', 'runs': {'batter': 0, 'extras': 0, 'total': 0}}, {'batter': 'RT Ponting', 'bowler': 'JH Kallis', 'non_striker': 'BB McCullum', 'runs': {'batter': 6, 'extras': 0, 'total': 6}}, {'batter': 'RT Ponting', 'bowler': 'JH Kallis', 'non_striker': 'BB McCullum', 'runs': {'batter': 0, 'extras': 0, 'total': 0}}, {'batter': 'RT Ponting', 'bowler': 'JH Kallis', 'extras': {'byes': 4}, 'non_striker': 'BB McCullum', 'runs': {'batter': 0, 'extras': 4, 'total': 4}}]}, {'over': 11, 'deliveries': [{'batter': 'BB McCullum', 'bowler': 'SB Joshi', 'non_striker': 'RT Ponting', 'runs': {'batter': 0, 'extras': 0, 'total': 0}}, {'batter': 'BB McCullum', 'bowler': 'SB Joshi', 'non_striker': 'RT Ponting', 'runs': {'batter': 6, 'extras': 0, 'total': 6}}, {'batter': 'BB McCullum', 'bowler': 'SB Joshi', 'non_striker': 'RT Ponting', 'runs': {'batter': 2, 'extras': 0, 'total': 2}}, {'batter': 'BB McCullum', 'bowler': 'SB Joshi', 'non_striker': 'RT Ponting', 'runs': {'batter': 1, 'extras': 0, 'total': 1}}, {'batter': 'RT Ponting', 'bowler': 'SB Joshi', 'non_striker': 'BB McCullum', 'runs': {'batter': 0, 'extras': 0, 'total': 0}}, {'batter': 'RT Ponting', 'bowler': 'SB Joshi', 'non_striker': 'BB McCullum', 'runs': {'batter': 1, 'extras': 0, 'total': 1}}]}, {'over': 12, 'deliveries': [{'batter': 'RT Ponting', 'bowler': 'JH Kallis', 'non_striker': 'BB McCullum', 'runs': {'batter': 0, 'extras': 0, 'total': 0}, 'wickets': [{'kind': 'caught', 'player_out': 'RT Ponting', 'fielders': [{'name': 'P Kumar'}]}]}, {'batter': 'BB McCullum', 'bowler': 'JH Kallis', 'non_striker': 'DJ Hussey', 'runs': {'batter': 4, 'extras': 0, 'total': 4}}, {'batter': 'BB McCullum', 'bowler': 'JH Kallis', 'non_striker': 'DJ Hussey', 'runs': {'batter': 0, 'extras': 0, 'total': 0}}, {'batter': 'BB McCullum', 'bowler': 'JH Kallis', 'non_striker': 'DJ Hussey', 'runs': {'batter': 2, 'extras': 0, 'total': 2}}, {'batter': 'BB McCullum', 'bowler': 'JH Kallis', 'extras': {'wides': 1}, 'non_striker': 'DJ Hussey', 'runs': {'batter': 0, 'extras': 1, 'total': 1}}, {'batter': 'BB McCullum', 'bowler': 'JH Kallis', 'non_striker': 'DJ Hussey', 'runs': {'batter': 4, 'extras': 0, 'total': 4}}, {'batter': 'BB McCullum', 'bowler': 'JH Kallis', 'non_striker': 'DJ Hussey', 'runs': {'batter': 1, 'extras': 0, 'total': 1}}]}, {'over': 13, 'deliveries': [{'batter': 'BB McCullum', 'bowler': 'SB Joshi', 'non_striker': 'DJ Hussey', 'runs': {'batter': 1, 'extras': 0, 'total': 1}}, {'batter': 'DJ Hussey', 'bowler': 'SB Joshi', 'non_striker': 'BB McCullum', 'runs': {'batter': 0, 'extras': 0, 'total': 0}}, {'batter': 'DJ Hussey', 'bowler': 'SB Joshi', 'non_striker': 'BB McCullum', 'runs': {'batter': 1, 'extras': 0, 'total': 1}}, {'batter': 'BB McCullum', 'bowler': 'SB Joshi', 'non_striker': 'DJ Hussey', 'runs': {'batter': 1, 'extras': 0, 'total': 1}}, {'batter': 'DJ Hussey', 'bowler': 'SB Joshi', 'non_striker': 'BB McCullum', 'runs': {'batter': 1, 'extras': 0, 'total': 1}}, {'batter': 'BB McCullum', 'bowler': 'SB Joshi', 'non_striker': 'DJ Hussey', 'runs': {'batter': 2, 'extras': 0, 'total': 2}}]}, {'over': 14, 'deliveries': [{'batter': 'DJ Hussey', 'bowler': 'CL White', 'non_striker': 'BB McCullum', 'runs': {'batter': 4, 'extras': 0, 'total': 4}}, {'batter': 'DJ Hussey', 'bowler': 'CL White', 'non_striker': 'BB McCullum', 'runs': {'batter': 1, 'extras': 0, 'total': 1}}, {'batter': 'BB McCullum', 'bowler': 'CL White', 'non_striker': 'DJ Hussey', 'runs': {'batter': 6, 'extras': 0, 'total': 6}}, {'batter': 'BB McCullum', 'bowler': 'CL White', 'non_striker': 'DJ Hussey', 'runs': {'batter': 4, 'extras': 0, 'total': 4}}, {'batter': 'BB McCullum', 'bowler': 'CL White', 'extras': {'wides': 2}, 'non_striker': 'DJ Hussey', 'runs': {'batter': 0, 'extras': 2, 'total': 2}}, {'batter': 'DJ Hussey', 'bowler': 'CL White', 'non_striker': 'BB McCullum', 'runs': {'batter': 1, 'extras': 0, 'total': 1}}, {'batter': 'BB McCullum', 'bowler': 'CL White', 'non_striker': 'DJ Hussey', 'runs': {'batter': 6, 'extras': 0, 'total': 6}}]}, {'over': 15, 'deliveries': [{'batter': 'DJ Hussey', 'bowler': 'AA Noffke', 'non_striker': 'BB McCullum', 'runs': {'batter': 0, 'extras': 0, 'total': 0}}, {'batter': 'DJ Hussey', 'bowler': 'AA Noffke', 'non_striker': 'BB McCullum', 'runs': {'batter': 1, 'extras': 0, 'total': 1}}, {'batter': 'BB McCullum', 'bowler': 'AA Noffke', 'non_striker': 'DJ Hussey', 'runs': {'batter': 2, 'extras': 0, 'total': 2}}, {'batter': 'BB McCullum', 'bowler': 'AA Noffke', 'non_striker': 'DJ Hussey', 'runs': {'batter': 0, 'extras': 0, 'total': 0}}, {'batter': 'BB McCullum', 'bowler': 'AA Noffke', 'non_striker': 'DJ Hussey', 'runs': {'batter': 1, 'extras': 0, 'total': 1}}, {'batter': 'DJ Hussey', 'bowler': 'AA Noffke', 'non_striker': 'BB McCullum', 'runs': {'batter': 0, 'extras': 0, 'total': 0}}]}, {'over': 16, 'deliveries': [{'batter': 'BB McCullum', 'bowler': 'Z Khan', 'non_striker': 'DJ Hussey', 'runs': {'batter': 1, 'extras': 0, 'total': 1}}, {'batter': 'DJ Hussey', 'bowler': 'Z Khan', 'non_striker': 'BB McCullum', 'runs': {'batter': 2, 'extras': 0, 'total': 2}}, {'batter': 'DJ Hussey', 'bowler': 'Z Khan', 'non_striker': 'BB McCullum', 'runs': {'batter': 1, 'extras': 0, 'total': 1}}, {'batter': 'BB McCullum', 'bowler': 'Z Khan', 'non_striker': 'DJ Hussey', 'runs': {'batter': 6, 'extras': 0, 'total': 6}}, {'batter': 'BB McCullum', 'bowler': 'Z Khan', 'non_striker': 'DJ Hussey', 'runs': {'batter': 2, 'extras': 0, 'total': 2}}, {'batter': 'BB McCullum', 'bowler': 'Z Khan', 'non_striker': 'DJ Hussey', 'runs': {'batter': 2, 'extras': 0, 'total': 2}}]}, {'over': 17, 'deliveries': [{'batter': 'DJ Hussey', 'bowler': 'AA Noffke', 'non_striker': 'BB McCullum', 'runs': {'batter': 0, 'extras': 0, 'total': 0}, 'wickets': [{'kind': 'caught', 'player_out': 'DJ Hussey', 'fielders': [{'name': 'CL White'}]}]}, {'batter': 'BB McCullum', 'bowler': 'AA Noffke', 'non_striker': 'Mohammad Hafeez', 'runs': {'batter': 1, 'extras': 0, 'total': 1}}, {'batter': 'Mohammad Hafeez', 'bowler': 'AA Noffke', 'non_striker': 'BB McCullum', 'runs': {'batter': 0, 'extras': 0, 'total': 0}}, {'batter': 'Mohammad Hafeez', 'bowler': 'AA Noffke', 'non_striker': 'BB McCullum', 'runs': {'batter': 1, 'extras': 0, 'total': 1}}, {'batter': 'BB McCullum', 'bowler': 'AA Noffke', 'non_striker': 'Mohammad Hafeez', 'runs': {'batter': 4, 'extras': 0, 'total': 4}}, {'batter': 'BB McCullum', 'bowler': 'AA Noffke', 'non_striker': 'Mohammad Hafeez', 'runs': {'batter': 1, 'extras': 0, 'total': 1}}]}, {'over': 18, 'deliveries': [{'batter': 'BB McCullum', 'bowler': 'JH Kallis', 'non_striker': 'Mohammad Hafeez', 'runs': {'batter': 6, 'extras': 0, 'total': 6}}, {'batter': 'BB McCullum', 'bowler': 'JH Kallis', 'non_striker': 'Mohammad Hafeez', 'runs': {'batter': 0, 'extras': 0, 'total': 0}}, {'batter': 'BB McCullum', 'bowler': 'JH Kallis', 'non_striker': 'Mohammad Hafeez', 'runs': {'batter': 6, 'extras': 0, 'total': 6}}, {'batter': 'BB McCullum', 'bowler': 'JH Kallis', 'non_striker': 'Mohammad Hafeez', 'runs': {'batter': 4, 'extras': 0, 'total': 4}}, {'batter': 'BB McCullum', 'bowler': 'JH Kallis', 'non_striker': 'Mohammad Hafeez', 'runs': {'batter': 1, 'extras': 0, 'total': 1}}, {'batter': 'Mohammad Hafeez', 'bowler': 'JH Kallis', 'non_striker': 'BB McCullum', 'runs': {'batter': 4, 'extras': 0, 'total': 4}}]}, {'over': 19, 'deliveries': [{'batter': 'BB McCullum', 'bowler': 'P Kumar', 'non_striker': 'Mohammad Hafeez', 'runs': {'batter': 6, 'extras': 0, 'total': 6}}, {'batter': 'BB McCullum', 'bowler': 'P Kumar', 'non_striker': 'Mohammad Hafeez', 'runs': {'batter': 6, 'extras': 0, 'total': 6}}, {'batter': 'BB McCullum', 'bowler': 'P Kumar', 'non_striker': 'Mohammad Hafeez', 'runs': {'batter': 2, 'extras': 0, 'total': 2}}, {'batter': 'BB McCullum', 'bowler': 'P Kumar', 'non_striker': 'Mohammad Hafeez', 'runs': {'batter': 0, 'extras': 0, 'total': 0}}, {'batter': 'BB McCullum', 'bowler': 'P Kumar', 'non_striker': 'Mohammad Hafeez', 'runs': {'batter': 2, 'extras': 0, 'total': 2}}, {'batter': 'BB McCullum', 'bowler': 'P Kumar', 'non_striker': 'Mohammad Hafeez', 'runs': {'batter': 6, 'extras': 0, 'total': 6}}]}], 'powerplays': [{'from': 0.1, 'to': 5.6, 'type': 'mandatory'}]}\n"
     ]
    }
   ],
   "source": [
    "print(data_dict['innings'][0])"
   ]
  },
  {
   "cell_type": "code",
   "execution_count": 26,
   "id": "35939764-1e08-440c-9aac-02d8ef3e4875",
   "metadata": {},
   "outputs": [
    {
     "name": "stdout",
     "output_type": "stream",
     "text": [
      "20\n",
      "16\n"
     ]
    }
   ],
   "source": [
    "print(len(data_dict['innings'][0]['overs']))\n",
    "print(len(data_dict['innings'][1]['overs']))"
   ]
  },
  {
   "cell_type": "code",
   "execution_count": 33,
   "id": "39bc75bb-9da6-40fe-8aed-665274b92341",
   "metadata": {},
   "outputs": [
    {
     "name": "stdout",
     "output_type": "stream",
     "text": [
      "{'over': 0, 'deliveries': [{'batter': 'SC Ganguly', 'bowler': 'P Kumar', 'extras': {'legbyes': 1}, 'non_striker': 'BB McCullum', 'runs': {'batter': 0, 'extras': 1, 'total': 1}}, {'batter': 'BB McCullum', 'bowler': 'P Kumar', 'non_striker': 'SC Ganguly', 'runs': {'batter': 0, 'extras': 0, 'total': 0}}, {'batter': 'BB McCullum', 'bowler': 'P Kumar', 'extras': {'wides': 1}, 'non_striker': 'SC Ganguly', 'runs': {'batter': 0, 'extras': 1, 'total': 1}}, {'batter': 'BB McCullum', 'bowler': 'P Kumar', 'non_striker': 'SC Ganguly', 'runs': {'batter': 0, 'extras': 0, 'total': 0}}, {'batter': 'BB McCullum', 'bowler': 'P Kumar', 'non_striker': 'SC Ganguly', 'runs': {'batter': 0, 'extras': 0, 'total': 0}}, {'batter': 'BB McCullum', 'bowler': 'P Kumar', 'non_striker': 'SC Ganguly', 'runs': {'batter': 0, 'extras': 0, 'total': 0}}, {'batter': 'BB McCullum', 'bowler': 'P Kumar', 'extras': {'legbyes': 1}, 'non_striker': 'SC Ganguly', 'runs': {'batter': 0, 'extras': 1, 'total': 1}}]}\n",
      "7\n",
      "6\n",
      "6\n",
      "7\n",
      "6\n",
      "6\n"
     ]
    }
   ],
   "source": [
    "print(data_dict['innings'][0]['overs'][0])\n",
    "print(len(data_dict['innings'][0]['overs'][0]['deliveries']))\n",
    "print(len(data_dict['innings'][0]['overs'][1]['deliveries']))\n",
    "print(len(data_dict['innings'][0]['overs'][2]['deliveries']))\n",
    "print(len(data_dict['innings'][0]['overs'][3]['deliveries']))\n",
    "print(len(data_dict['innings'][0]['overs'][4]['deliveries']))\n",
    "print(len(data_dict['innings'][0]['overs'][5]['deliveries']))"
   ]
  },
  {
   "cell_type": "code",
   "execution_count": 35,
   "id": "9a8d4415-6840-4e82-9d1a-a84cb7582a65",
   "metadata": {},
   "outputs": [
    {
     "name": "stdout",
     "output_type": "stream",
     "text": [
      "{'balls_per_over': 6, 'city': 'Bangalore', 'dates': ['2008-04-18'], 'event': {'match_number': 1, 'name': 'Indian Premier League'}, 'gender': 'male', 'match_type': 'T20', 'officials': {'match_referees': ['J Srinath'], 'reserve_umpires': ['VN Kulkarni'], 'tv_umpires': ['AM Saheba'], 'umpires': ['Asad Rauf', 'RE Koertzen']}, 'outcome': {'by': {'runs': 140}, 'winner': 'Kolkata Knight Riders'}, 'overs': 20, 'player_of_match': ['BB McCullum'], 'players': {'Kolkata Knight Riders': ['SC Ganguly', 'BB McCullum', 'RT Ponting', 'DJ Hussey', 'Mohammad Hafeez', 'LR Shukla', 'WP Saha', 'AB Agarkar', 'AB Dinda', 'M Kartik', 'I Sharma'], 'Royal Challengers Bangalore': ['R Dravid', 'W Jaffer', 'V Kohli', 'JH Kallis', 'CL White', 'MV Boucher', 'B Akhil', 'AA Noffke', 'P Kumar', 'Z Khan', 'SB Joshi']}, 'registry': {'people': {'AA Noffke': 'b69e69ed', 'AB Agarkar': 'fa463154', 'AB Dinda': '66b30f71', 'AM Saheba': '883e3818', 'Asad Rauf': '861606b7', 'B Akhil': 'af7dadf7', 'BB McCullum': 'b8a55852', 'CL White': 'd0513f63', 'DJ Hussey': 'fd835ab3', 'I Sharma': '5bb1a1c4', 'J Srinath': 'bad31fac', 'JH Kallis': '86dc8f2e', 'LR Shukla': 'b1451597', 'M Kartik': 'abfeb126', 'MV Boucher': 'f3cb53a1', 'Mohammad Hafeez': '9ab63e7b', 'P Kumar': 'e938e1bc', 'R Dravid': '0184dc35', 'RE Koertzen': '0265fab2', 'RT Ponting': '7d415ea5', 'SB Joshi': '670709ec', 'SC Ganguly': '725529bc', 'V Kohli': 'ba607b88', 'VN Kulkarni': '0b126008', 'W Jaffer': '619aa81f', 'WP Saha': 'fe11caa6', 'Z Khan': '91a4a398'}}, 'season': '2007/08', 'team_type': 'club', 'teams': ['Royal Challengers Bangalore', 'Kolkata Knight Riders'], 'toss': {'decision': 'field', 'winner': 'Royal Challengers Bangalore'}, 'venue': 'M Chinnaswamy Stadium'}\n"
     ]
    }
   ],
   "source": [
    "print(data_dict['info'])"
   ]
  },
  {
   "cell_type": "code",
   "execution_count": 34,
   "id": "518b9d3a-2240-4688-abc0-110cb06e0246",
   "metadata": {},
   "outputs": [],
   "source": [
    "info = data_dict.get(\"info\", {})\n",
    "innings = data_dict.get(\"innings\", {})"
   ]
  },
  {
   "cell_type": "code",
   "execution_count": 40,
   "id": "e4e59217-76d9-4b77-a39b-6bb402329d50",
   "metadata": {},
   "outputs": [
    {
     "name": "stdout",
     "output_type": "stream",
     "text": [
      "[('SC Ganguly', 'Kolkata Knight Riders'), ('BB McCullum', 'Kolkata Knight Riders'), ('RT Ponting', 'Kolkata Knight Riders'), ('DJ Hussey', 'Kolkata Knight Riders'), ('Mohammad Hafeez', 'Kolkata Knight Riders'), ('LR Shukla', 'Kolkata Knight Riders'), ('WP Saha', 'Kolkata Knight Riders'), ('AB Agarkar', 'Kolkata Knight Riders'), ('AB Dinda', 'Kolkata Knight Riders'), ('M Kartik', 'Kolkata Knight Riders'), ('I Sharma', 'Kolkata Knight Riders'), ('R Dravid', 'Royal Challengers Bangalore'), ('W Jaffer', 'Royal Challengers Bangalore'), ('V Kohli', 'Royal Challengers Bangalore'), ('JH Kallis', 'Royal Challengers Bangalore'), ('CL White', 'Royal Challengers Bangalore'), ('MV Boucher', 'Royal Challengers Bangalore'), ('B Akhil', 'Royal Challengers Bangalore'), ('AA Noffke', 'Royal Challengers Bangalore'), ('P Kumar', 'Royal Challengers Bangalore'), ('Z Khan', 'Royal Challengers Bangalore'), ('SB Joshi', 'Royal Challengers Bangalore')]\n"
     ]
    }
   ],
   "source": [
    "match_data = {\n",
    "    \"balls_per_over\": info.get(\"balls_per_over\", \"N/A\"),\n",
    "    \"city\": info.get(\"city\", \"N/A\"),\n",
    "    \"venue\": info.get(\"venue\", \"N/A\"),\n",
    "    \"match_dates\": info.get(\"dates\", [None]),\n",
    "    \"event_name\": info.get(\"event\", {}).get(\"name\", \"N/A\"),\n",
    "    \"gender\": info.get(\"gender\", \"N/A\"),\n",
    "    \"match_type\": info.get(\"match_type\", \"N/A\"),\n",
    "    \"match_referees\": info.get(\"officials\", {}).get(\"match_referees\", [None]),\n",
    "    \"reserve_umpires\": info.get(\"officials\", {}).get(\"reserve_umpires\", [None]),\n",
    "    \"tv_umpires\": info.get(\"officials\", {}).get(\"tv_umpires\", [None]),\n",
    "    \"umpires\": info.get(\"officials\", {}).get(\"umpires\", [None]),\n",
    "    \"winner\": info.get(\"outcome\", {}).get(\"winner\", \"N/A\"),\n",
    "    \"winner_runs\": info.get(\"outcome\", {}).get(\"runs\", \"N/A\"),\n",
    "    \"total_overs\": info.get(\"overs\", \"N/A\"),\n",
    "    \"player_of_match\": info.get(\"player_of_match\", \"N/A\"),\n",
    "    \"season\": info.get(\"season\", \"N/A\"),\n",
    "    \"team_type\": info.get(\"team_type\", \"N/A\"),\n",
    "    \"teams\": info.get(\"teams\", [None]),\n",
    "}\n",
    "# Extract players for each team\n",
    "players = info.get(\"players\", {})\n",
    "\n",
    "# Transforming dictionary to list of tuples\n",
    "players_list = [(player, team) for team, players in players.items() for player in players]\n",
    "match_data[\"players\"]=players_list\n",
    "# Printing the result\n",
    "print(players_list)\n",
    "    # \"city\": meta.get(\"city\", \"N/A\"),\n",
    "    # \"city\": meta.get(\"city\", \"N/A\"),"
   ]
  },
  {
   "cell_type": "code",
   "execution_count": 59,
   "id": "cf921df7-a429-4ae6-8e34-1125ff76a215",
   "metadata": {},
   "outputs": [],
   "source": [
    "# innings"
   ]
  },
  {
   "cell_type": "code",
   "execution_count": 52,
   "id": "01bd391a-6528-4817-a4e5-d3b344a15d7e",
   "metadata": {},
   "outputs": [
    {
     "name": "stdout",
     "output_type": "stream",
     "text": [
      "{'SC Ganguly': {'total_runs_achieved_by_player': 10, 'sixes_by_player': 0, 'team': 'Kolkata Knight Riders'}, 'BB McCullum': {'total_runs_achieved_by_player': 158, 'sixes_by_player': 13, 'team': 'Kolkata Knight Riders'}, 'RT Ponting': {'total_runs_achieved_by_player': 20, 'sixes_by_player': 1, 'team': 'Kolkata Knight Riders'}, 'DJ Hussey': {'total_runs_achieved_by_player': 12, 'sixes_by_player': 0, 'team': 'Kolkata Knight Riders'}, 'Mohammad Hafeez': {'total_runs_achieved_by_player': 5, 'sixes_by_player': 0, 'team': 'Kolkata Knight Riders'}, 'R Dravid': {'total_runs_achieved_by_player': 2, 'sixes_by_player': 0, 'team': 'Royal Challengers Bangalore'}, 'W Jaffer': {'total_runs_achieved_by_player': 6, 'sixes_by_player': 0, 'team': 'Royal Challengers Bangalore'}, 'V Kohli': {'total_runs_achieved_by_player': 1, 'sixes_by_player': 0, 'team': 'Royal Challengers Bangalore'}, 'JH Kallis': {'total_runs_achieved_by_player': 8, 'sixes_by_player': 1, 'team': 'Royal Challengers Bangalore'}, 'CL White': {'total_runs_achieved_by_player': 6, 'sixes_by_player': 0, 'team': 'Royal Challengers Bangalore'}, 'MV Boucher': {'total_runs_achieved_by_player': 7, 'sixes_by_player': 0, 'team': 'Royal Challengers Bangalore'}, 'B Akhil': {'total_runs_achieved_by_player': 0, 'sixes_by_player': 0, 'team': 'Royal Challengers Bangalore'}, 'AA Noffke': {'total_runs_achieved_by_player': 9, 'sixes_by_player': 0, 'team': 'Royal Challengers Bangalore'}, 'P Kumar': {'total_runs_achieved_by_player': 18, 'sixes_by_player': 2, 'team': 'Royal Challengers Bangalore'}, 'Z Khan': {'total_runs_achieved_by_player': 3, 'sixes_by_player': 0, 'team': 'Royal Challengers Bangalore'}, 'SB Joshi': {'total_runs_achieved_by_player': 3, 'sixes_by_player': 0, 'team': 'Royal Challengers Bangalore'}}\n"
     ]
    }
   ],
   "source": [
    "# process innings data\n",
    "\n",
    "innings_earned = {\"player\":\"\",\n",
    "                  \"innings\":{\"taotal_runs_achieved_by_player\":[],\"sixes_by_player\":[]}}\n",
    "# Creating dictionary for total runs and sixes\n",
    "batting_stats = {}\n",
    "for team in innings:\n",
    "    team_of_player= team['team']\n",
    "    for over in team['overs']:\n",
    "        for delivery in over['deliveries']:\n",
    "            batter = delivery['batter']\n",
    "            runs = delivery['runs']['batter']\n",
    "            \n",
    "            \n",
    "            if batter not in batting_stats:\n",
    "                batting_stats[batter] = {\"total_runs_achieved_by_player\": 0, \"sixes_by_player\": 0, \"team\": team_of_player}\n",
    "            \n",
    "            batting_stats[batter][\"total_runs_achieved_by_player\"] += runs\n",
    "            if runs == 6:\n",
    "                batting_stats[batter][\"sixes_by_player\"] += 1\n",
    "# Printing the result\n",
    "print(batting_stats)"
   ]
  },
  {
   "cell_type": "code",
   "execution_count": 58,
   "id": "a3b3f61d-8ec4-4f90-a7ec-4b75c7d8ada1",
   "metadata": {},
   "outputs": [],
   "source": [
    "player_status={}\n",
    "for player,stats in batting_stats.items():\n",
    "    player_status[\"player\"] = player,\n",
    "    player_status[\"runs_achieved\"] = stats[\"total_runs_achieved_by_player\"],\n",
    "    player_status[\"sixes_achieved\"] = stats[\"sixes_by_player\"],\n",
    "    player_status[\"team\"] = stats[\"team\"],\n",
    "    player_status[\"event_city\"] = match_data[\"city\"],\n",
    "    player_status[\"event_venue\"] = match_data[\"venue\"],\n",
    "    player_status[\"event_dates\"] = match_data[\"match_dates\"],\n",
    "    player_status[\"event_name\"] = match_data[\"event_name\"],\n",
    "    player_status[\"match_type\"] = match_data[\"match_type\"],\n",
    "    player_status[\"season\"] = match_data[\"season\"],\n",
    "    player_status[\"team_type\"] = match_data[\"team_type\"],\n",
    "\n",
    "    if len(match_data[\"teams\"])==2:\n",
    "        opposite_team = [team for team in match_data[\"teams\"] if team != stats[\"team\"]][0]\n",
    "    else:\n",
    "        opposite_team = \"N/A\"\n",
    "    # print(\"opposite_team\",opposite_team)\n",
    "    player_status[\"opposite_team\"] = opposite_team,\n",
    "    # player_status[\"season\"] = player,\n",
    "    \n",
    "    "
   ]
  },
  {
   "cell_type": "markdown",
   "id": "d0d76d4f-8383-402c-a985-1a43da20ed09",
   "metadata": {},
   "source": [
    "EDA"
   ]
  },
  {
   "cell_type": "code",
   "execution_count": 3,
   "id": "e38e06a7-9a2b-4ac0-8884-2d87746373dc",
   "metadata": {},
   "outputs": [],
   "source": [
    "match_data_df = pd.read_csv(r\"C:\\Users\\sidha\\OneDrive\\Documents\\Project_Cricket_AI\\src\\data\\cricket_data\\match_data.csv\")\n",
    "player_data_df = pd.read_csv(r\"C:\\Users\\sidha\\OneDrive\\Documents\\Project_Cricket_AI\\src\\data\\cricket_data\\player_data.csv\")"
   ]
  },
  {
   "cell_type": "code",
   "execution_count": 4,
   "id": "60b1e2f3-ab1d-4647-b152-970a9e61f4a1",
   "metadata": {},
   "outputs": [
    {
     "data": {
      "text/html": [
       "<div>\n",
       "<style scoped>\n",
       "    .dataframe tbody tr th:only-of-type {\n",
       "        vertical-align: middle;\n",
       "    }\n",
       "\n",
       "    .dataframe tbody tr th {\n",
       "        vertical-align: top;\n",
       "    }\n",
       "\n",
       "    .dataframe thead th {\n",
       "        text-align: right;\n",
       "    }\n",
       "</style>\n",
       "<table border=\"1\" class=\"dataframe\">\n",
       "  <thead>\n",
       "    <tr style=\"text-align: right;\">\n",
       "      <th></th>\n",
       "      <th>balls_per_over</th>\n",
       "      <th>city</th>\n",
       "      <th>venue</th>\n",
       "      <th>match_dates</th>\n",
       "      <th>event_name</th>\n",
       "      <th>gender</th>\n",
       "      <th>match_type</th>\n",
       "      <th>match_referees</th>\n",
       "      <th>reserve_umpires</th>\n",
       "      <th>tv_umpires</th>\n",
       "      <th>umpires</th>\n",
       "      <th>winner</th>\n",
       "      <th>winner_runs</th>\n",
       "      <th>total_overs</th>\n",
       "      <th>player_of_match</th>\n",
       "      <th>season</th>\n",
       "      <th>team_type</th>\n",
       "      <th>teams</th>\n",
       "      <th>players</th>\n",
       "    </tr>\n",
       "  </thead>\n",
       "  <tbody>\n",
       "    <tr>\n",
       "      <th>0</th>\n",
       "      <td>6</td>\n",
       "      <td>Johannesburg</td>\n",
       "      <td>New Wanderers Stadium, Johannesburg</td>\n",
       "      <td>['2016-11-12']</td>\n",
       "      <td>CSA T20 Challenge</td>\n",
       "      <td>male</td>\n",
       "      <td>T20</td>\n",
       "      <td>['SB Lambson']</td>\n",
       "      <td>['AT Holdstock']</td>\n",
       "      <td>['S George']</td>\n",
       "      <td>['A Paleker', 'BP Jele']</td>\n",
       "      <td>Knights</td>\n",
       "      <td>NaN</td>\n",
       "      <td>20.0</td>\n",
       "      <td>['M de Lange', 'PE Kruger']</td>\n",
       "      <td>2016/17</td>\n",
       "      <td>club</td>\n",
       "      <td>['Knights', 'Cape Cobras']</td>\n",
       "      <td>[('RS Second', 'Knights'), ('PE Kruger', 'Knig...</td>\n",
       "    </tr>\n",
       "    <tr>\n",
       "      <th>1</th>\n",
       "      <td>6</td>\n",
       "      <td>Johannesburg</td>\n",
       "      <td>New Wanderers Stadium, Johannesburg</td>\n",
       "      <td>['2016-11-12']</td>\n",
       "      <td>CSA T20 Challenge</td>\n",
       "      <td>male</td>\n",
       "      <td>T20</td>\n",
       "      <td>['SB Lambson']</td>\n",
       "      <td>['A Paleker']</td>\n",
       "      <td>['BP Jele']</td>\n",
       "      <td>['AT Holdstock', 'S George']</td>\n",
       "      <td>Titans</td>\n",
       "      <td>NaN</td>\n",
       "      <td>20.0</td>\n",
       "      <td>['JA Morkel', 'HG Kuhn']</td>\n",
       "      <td>2016/17</td>\n",
       "      <td>club</td>\n",
       "      <td>['Titans', 'Lions']</td>\n",
       "      <td>[('H Davids', 'Titans'), ('TG Mokoena', 'Titan...</td>\n",
       "    </tr>\n",
       "    <tr>\n",
       "      <th>2</th>\n",
       "      <td>6</td>\n",
       "      <td>Durban</td>\n",
       "      <td>Kingsmead, Durban</td>\n",
       "      <td>['2016-11-13']</td>\n",
       "      <td>CSA T20 Challenge</td>\n",
       "      <td>male</td>\n",
       "      <td>T20</td>\n",
       "      <td>['A Barnes']</td>\n",
       "      <td>['GH Pienaar']</td>\n",
       "      <td>['DJ Smith']</td>\n",
       "      <td>['BP Jele', 'S George']</td>\n",
       "      <td>Warriors</td>\n",
       "      <td>NaN</td>\n",
       "      <td>20.0</td>\n",
       "      <td>['ACR Birch']</td>\n",
       "      <td>2016/17</td>\n",
       "      <td>club</td>\n",
       "      <td>['Dolphins', 'Warriors']</td>\n",
       "      <td>[('MN van Wyk', 'Dolphins'), ('CS Delport', 'D...</td>\n",
       "    </tr>\n",
       "    <tr>\n",
       "      <th>3</th>\n",
       "      <td>6</td>\n",
       "      <td>Paarl</td>\n",
       "      <td>Boland Park, Paarl</td>\n",
       "      <td>['2016-11-16']</td>\n",
       "      <td>CSA T20 Challenge</td>\n",
       "      <td>male</td>\n",
       "      <td>T20</td>\n",
       "      <td>['A Barnes']</td>\n",
       "      <td>['J Wolhuter']</td>\n",
       "      <td>['MW Brown']</td>\n",
       "      <td>['A Paleker', 'JD Cloete']</td>\n",
       "      <td>Titans</td>\n",
       "      <td>NaN</td>\n",
       "      <td>20.0</td>\n",
       "      <td>['JA Morkel', 'CJ Dala']</td>\n",
       "      <td>2016/17</td>\n",
       "      <td>club</td>\n",
       "      <td>['Cape Cobras', 'Titans']</td>\n",
       "      <td>[('RE Levi', 'Cape Cobras'), ('C Tshiki', 'Cap...</td>\n",
       "    </tr>\n",
       "    <tr>\n",
       "      <th>4</th>\n",
       "      <td>6</td>\n",
       "      <td>Benoni</td>\n",
       "      <td>Willowmoore Park, Benoni</td>\n",
       "      <td>['2016-11-18']</td>\n",
       "      <td>CSA T20 Challenge</td>\n",
       "      <td>male</td>\n",
       "      <td>T20</td>\n",
       "      <td>['S Wadvalla']</td>\n",
       "      <td>['GH Pienaar']</td>\n",
       "      <td>['AT Holdstock']</td>\n",
       "      <td>['CD Isaacs', 'S George']</td>\n",
       "      <td>Titans</td>\n",
       "      <td>NaN</td>\n",
       "      <td>20.0</td>\n",
       "      <td>['JA Morkel', 'DA Miller']</td>\n",
       "      <td>2016/17</td>\n",
       "      <td>club</td>\n",
       "      <td>['Knights', 'Titans']</td>\n",
       "      <td>[('PE Kruger', 'Knights'), ('LLL Sesele', 'Kni...</td>\n",
       "    </tr>\n",
       "  </tbody>\n",
       "</table>\n",
       "</div>"
      ],
      "text/plain": [
       "   balls_per_over          city                                venue  \\\n",
       "0               6  Johannesburg  New Wanderers Stadium, Johannesburg   \n",
       "1               6  Johannesburg  New Wanderers Stadium, Johannesburg   \n",
       "2               6        Durban                    Kingsmead, Durban   \n",
       "3               6         Paarl                   Boland Park, Paarl   \n",
       "4               6        Benoni             Willowmoore Park, Benoni   \n",
       "\n",
       "      match_dates         event_name gender match_type  match_referees  \\\n",
       "0  ['2016-11-12']  CSA T20 Challenge   male        T20  ['SB Lambson']   \n",
       "1  ['2016-11-12']  CSA T20 Challenge   male        T20  ['SB Lambson']   \n",
       "2  ['2016-11-13']  CSA T20 Challenge   male        T20    ['A Barnes']   \n",
       "3  ['2016-11-16']  CSA T20 Challenge   male        T20    ['A Barnes']   \n",
       "4  ['2016-11-18']  CSA T20 Challenge   male        T20  ['S Wadvalla']   \n",
       "\n",
       "    reserve_umpires        tv_umpires                       umpires    winner  \\\n",
       "0  ['AT Holdstock']      ['S George']      ['A Paleker', 'BP Jele']   Knights   \n",
       "1     ['A Paleker']       ['BP Jele']  ['AT Holdstock', 'S George']    Titans   \n",
       "2    ['GH Pienaar']      ['DJ Smith']       ['BP Jele', 'S George']  Warriors   \n",
       "3    ['J Wolhuter']      ['MW Brown']    ['A Paleker', 'JD Cloete']    Titans   \n",
       "4    ['GH Pienaar']  ['AT Holdstock']     ['CD Isaacs', 'S George']    Titans   \n",
       "\n",
       "   winner_runs  total_overs              player_of_match   season team_type  \\\n",
       "0          NaN         20.0  ['M de Lange', 'PE Kruger']  2016/17      club   \n",
       "1          NaN         20.0     ['JA Morkel', 'HG Kuhn']  2016/17      club   \n",
       "2          NaN         20.0                ['ACR Birch']  2016/17      club   \n",
       "3          NaN         20.0     ['JA Morkel', 'CJ Dala']  2016/17      club   \n",
       "4          NaN         20.0   ['JA Morkel', 'DA Miller']  2016/17      club   \n",
       "\n",
       "                        teams  \\\n",
       "0  ['Knights', 'Cape Cobras']   \n",
       "1         ['Titans', 'Lions']   \n",
       "2    ['Dolphins', 'Warriors']   \n",
       "3   ['Cape Cobras', 'Titans']   \n",
       "4       ['Knights', 'Titans']   \n",
       "\n",
       "                                             players  \n",
       "0  [('RS Second', 'Knights'), ('PE Kruger', 'Knig...  \n",
       "1  [('H Davids', 'Titans'), ('TG Mokoena', 'Titan...  \n",
       "2  [('MN van Wyk', 'Dolphins'), ('CS Delport', 'D...  \n",
       "3  [('RE Levi', 'Cape Cobras'), ('C Tshiki', 'Cap...  \n",
       "4  [('PE Kruger', 'Knights'), ('LLL Sesele', 'Kni...  "
      ]
     },
     "execution_count": 4,
     "metadata": {},
     "output_type": "execute_result"
    }
   ],
   "source": [
    "match_data_df.head()\n"
   ]
  },
  {
   "cell_type": "code",
   "execution_count": 66,
   "id": "6e9dc638-41e4-46df-844f-14a8151b1696",
   "metadata": {},
   "outputs": [
    {
     "data": {
      "text/html": [
       "<div>\n",
       "<style scoped>\n",
       "    .dataframe tbody tr th:only-of-type {\n",
       "        vertical-align: middle;\n",
       "    }\n",
       "\n",
       "    .dataframe tbody tr th {\n",
       "        vertical-align: top;\n",
       "    }\n",
       "\n",
       "    .dataframe thead th {\n",
       "        text-align: right;\n",
       "    }\n",
       "</style>\n",
       "<table border=\"1\" class=\"dataframe\">\n",
       "  <thead>\n",
       "    <tr style=\"text-align: right;\">\n",
       "      <th></th>\n",
       "      <th>player</th>\n",
       "      <th>runs_achieved</th>\n",
       "      <th>sixes_achieved</th>\n",
       "      <th>team</th>\n",
       "      <th>event_city</th>\n",
       "      <th>event_venue</th>\n",
       "      <th>event_dates</th>\n",
       "      <th>event_name</th>\n",
       "      <th>match_type</th>\n",
       "      <th>season</th>\n",
       "      <th>team_type</th>\n",
       "      <th>opposite_team</th>\n",
       "    </tr>\n",
       "  </thead>\n",
       "  <tbody>\n",
       "    <tr>\n",
       "      <th>0</th>\n",
       "      <td>('TL Moreki',)</td>\n",
       "      <td>(0,)</td>\n",
       "      <td>(0,)</td>\n",
       "      <td>('Cape Cobras',)</td>\n",
       "      <td>('Johannesburg',)</td>\n",
       "      <td>('New Wanderers Stadium, Johannesburg',)</td>\n",
       "      <td>(['2016-11-12'],)</td>\n",
       "      <td>('CSA T20 Challenge',)</td>\n",
       "      <td>('T20',)</td>\n",
       "      <td>('2016/17',)</td>\n",
       "      <td>('club',)</td>\n",
       "      <td>('Knights',)</td>\n",
       "    </tr>\n",
       "    <tr>\n",
       "      <th>1</th>\n",
       "      <td>('E Leie',)</td>\n",
       "      <td>(10,)</td>\n",
       "      <td>(0,)</td>\n",
       "      <td>('Lions',)</td>\n",
       "      <td>('Johannesburg',)</td>\n",
       "      <td>('New Wanderers Stadium, Johannesburg',)</td>\n",
       "      <td>(['2016-11-12'],)</td>\n",
       "      <td>('CSA T20 Challenge',)</td>\n",
       "      <td>('T20',)</td>\n",
       "      <td>('2016/17',)</td>\n",
       "      <td>('club',)</td>\n",
       "      <td>('Titans',)</td>\n",
       "    </tr>\n",
       "    <tr>\n",
       "      <th>2</th>\n",
       "      <td>('C Jonker',)</td>\n",
       "      <td>(6,)</td>\n",
       "      <td>(0,)</td>\n",
       "      <td>('Warriors',)</td>\n",
       "      <td>('Durban',)</td>\n",
       "      <td>('Kingsmead, Durban',)</td>\n",
       "      <td>(['2016-11-13'],)</td>\n",
       "      <td>('CSA T20 Challenge',)</td>\n",
       "      <td>('T20',)</td>\n",
       "      <td>('2016/17',)</td>\n",
       "      <td>('club',)</td>\n",
       "      <td>('Dolphins',)</td>\n",
       "    </tr>\n",
       "    <tr>\n",
       "      <th>3</th>\n",
       "      <td>('JA Morkel',)</td>\n",
       "      <td>(34,)</td>\n",
       "      <td>(0,)</td>\n",
       "      <td>('Titans',)</td>\n",
       "      <td>('Paarl',)</td>\n",
       "      <td>('Boland Park, Paarl',)</td>\n",
       "      <td>(['2016-11-16'],)</td>\n",
       "      <td>('CSA T20 Challenge',)</td>\n",
       "      <td>('T20',)</td>\n",
       "      <td>('2016/17',)</td>\n",
       "      <td>('club',)</td>\n",
       "      <td>('Cape Cobras',)</td>\n",
       "    </tr>\n",
       "    <tr>\n",
       "      <th>4</th>\n",
       "      <td>('S von Berg',)</td>\n",
       "      <td>(2,)</td>\n",
       "      <td>(0,)</td>\n",
       "      <td>('Titans',)</td>\n",
       "      <td>('Benoni',)</td>\n",
       "      <td>('Willowmoore Park, Benoni',)</td>\n",
       "      <td>(['2016-11-18'],)</td>\n",
       "      <td>('CSA T20 Challenge',)</td>\n",
       "      <td>('T20',)</td>\n",
       "      <td>('2016/17',)</td>\n",
       "      <td>('club',)</td>\n",
       "      <td>('Knights',)</td>\n",
       "    </tr>\n",
       "  </tbody>\n",
       "</table>\n",
       "</div>"
      ],
      "text/plain": [
       "            player runs_achieved sixes_achieved              team  \\\n",
       "0   ('TL Moreki',)          (0,)           (0,)  ('Cape Cobras',)   \n",
       "1      ('E Leie',)         (10,)           (0,)        ('Lions',)   \n",
       "2    ('C Jonker',)          (6,)           (0,)     ('Warriors',)   \n",
       "3   ('JA Morkel',)         (34,)           (0,)       ('Titans',)   \n",
       "4  ('S von Berg',)          (2,)           (0,)       ('Titans',)   \n",
       "\n",
       "          event_city                               event_venue  \\\n",
       "0  ('Johannesburg',)  ('New Wanderers Stadium, Johannesburg',)   \n",
       "1  ('Johannesburg',)  ('New Wanderers Stadium, Johannesburg',)   \n",
       "2        ('Durban',)                    ('Kingsmead, Durban',)   \n",
       "3         ('Paarl',)                   ('Boland Park, Paarl',)   \n",
       "4        ('Benoni',)             ('Willowmoore Park, Benoni',)   \n",
       "\n",
       "         event_dates              event_name match_type        season  \\\n",
       "0  (['2016-11-12'],)  ('CSA T20 Challenge',)   ('T20',)  ('2016/17',)   \n",
       "1  (['2016-11-12'],)  ('CSA T20 Challenge',)   ('T20',)  ('2016/17',)   \n",
       "2  (['2016-11-13'],)  ('CSA T20 Challenge',)   ('T20',)  ('2016/17',)   \n",
       "3  (['2016-11-16'],)  ('CSA T20 Challenge',)   ('T20',)  ('2016/17',)   \n",
       "4  (['2016-11-18'],)  ('CSA T20 Challenge',)   ('T20',)  ('2016/17',)   \n",
       "\n",
       "   team_type     opposite_team  \n",
       "0  ('club',)      ('Knights',)  \n",
       "1  ('club',)       ('Titans',)  \n",
       "2  ('club',)     ('Dolphins',)  \n",
       "3  ('club',)  ('Cape Cobras',)  \n",
       "4  ('club',)      ('Knights',)  "
      ]
     },
     "execution_count": 66,
     "metadata": {},
     "output_type": "execute_result"
    }
   ],
   "source": [
    "player_data_df.head()"
   ]
  },
  {
   "cell_type": "code",
   "execution_count": 5,
   "id": "3c90b103-4071-4394-a126-d7d7e8cb5753",
   "metadata": {},
   "outputs": [
    {
     "name": "stdout",
     "output_type": "stream",
     "text": [
      "balls_per_over        0\n",
      "city                634\n",
      "venue                 0\n",
      "match_dates           0\n",
      "event_name           89\n",
      "gender                0\n",
      "match_type            0\n",
      "match_referees        0\n",
      "reserve_umpires       0\n",
      "tv_umpires            0\n",
      "umpires               0\n",
      "winner              469\n",
      "winner_runs        9170\n",
      "total_overs         861\n",
      "player_of_match     668\n",
      "season                0\n",
      "team_type             0\n",
      "teams                 0\n",
      "players               0\n",
      "dtype: int64\n"
     ]
    }
   ],
   "source": [
    "print(match_data_df.isnull().sum())"
   ]
  },
  {
   "cell_type": "code",
   "execution_count": 6,
   "id": "015279bd-ee82-4c6c-a0ec-3c08a5c5a308",
   "metadata": {},
   "outputs": [
    {
     "name": "stdout",
     "output_type": "stream",
     "text": [
      "player            0\n",
      "runs_achieved     0\n",
      "sixes_achieved    0\n",
      "team              0\n",
      "event_city        0\n",
      "event_venue       0\n",
      "event_dates       0\n",
      "event_name        0\n",
      "match_type        0\n",
      "season            0\n",
      "team_type         0\n",
      "opposite_team     0\n",
      "dtype: int64\n"
     ]
    }
   ],
   "source": [
    "print(player_data_df.isnull().sum())"
   ]
  },
  {
   "cell_type": "code",
   "execution_count": 10,
   "id": "4d00dc93-55ca-4636-86bf-288f754f05cb",
   "metadata": {},
   "outputs": [
    {
     "data": {
      "text/plain": [
       "match_type\n",
       "('T20',)     5403\n",
       "('ODI',)     2906\n",
       "('Test',)     861\n",
       "Name: count, dtype: int64"
      ]
     },
     "execution_count": 10,
     "metadata": {},
     "output_type": "execute_result"
    }
   ],
   "source": [
    "player_data_df['match_type'].value_counts()"
   ]
  },
  {
   "cell_type": "code",
   "execution_count": null,
   "id": "862bde20-299f-45e0-9196-1e8761a0c5b8",
   "metadata": {},
   "outputs": [],
   "source": []
  }
 ],
 "metadata": {
  "kernelspec": {
   "display_name": "Python 3 (ipykernel)",
   "language": "python",
   "name": "python3"
  },
  "language_info": {
   "codemirror_mode": {
    "name": "ipython",
    "version": 3
   },
   "file_extension": ".py",
   "mimetype": "text/x-python",
   "name": "python",
   "nbconvert_exporter": "python",
   "pygments_lexer": "ipython3",
   "version": "3.9.21"
  }
 },
 "nbformat": 4,
 "nbformat_minor": 5
}
